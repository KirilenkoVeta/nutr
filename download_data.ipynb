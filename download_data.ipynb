{
 "cells": [
  {
   "cell_type": "code",
   "execution_count": 1,
   "id": "1c572e9b",
   "metadata": {},
   "outputs": [],
   "source": [
    "import pandas as pd\n",
    "import numpy as np\n",
    "import os\n",
    "from torch.utils.data import Dataset, DataLoader\n",
    "from torchvision import transforms, utils\n",
    "from PIL import Image\n",
    "import gdown\n",
    "import shutil\n",
    "import seaborn as sns\n",
    "\n",
    "# Ignore warnings\n",
    "import warnings\n",
    "warnings.filterwarnings(\"ignore\")\n",
    "\n",
    "from food_dataset import FoodDataset"
   ]
  },
  {
   "cell_type": "markdown",
   "id": "201179ad",
   "metadata": {},
   "source": [
    "# download files from gdrive"
   ]
  },
  {
   "cell_type": "code",
   "execution_count": 2,
   "id": "927c9561",
   "metadata": {},
   "outputs": [
    {
     "name": "stdout",
     "output_type": "stream",
     "text": [
      "Downloading...\n",
      "From (uriginal): https://drive.google.com/uc?id=1RjFrBLyNTjzYN9ow8HVfQFl3CYcGz8qM\n",
      "From (redirected): https://drive.google.com/uc?id=1RjFrBLyNTjzYN9ow8HVfQFl3CYcGz8qM&confirm=t&uuid=c593990a-d24d-4b37-a971-939bce1b0b1b\n",
      "To: /Volumes/T7/dataset.zip\n",
      "100%|██████████████████████████████████████| 1.61G/1.61G [03:55<00:00, 6.86MB/s]\n"
     ]
    }
   ],
   "source": [
    "!python3 download.py"
   ]
  },
  {
   "cell_type": "markdown",
   "id": "a20d8570",
   "metadata": {},
   "source": [
    "# dataset"
   ]
  },
  {
   "cell_type": "code",
   "execution_count": 3,
   "id": "441ba079",
   "metadata": {},
   "outputs": [
    {
     "name": "stdout",
     "output_type": "stream",
     "text": [
      "CPU times: user 21.5 ms, sys: 28.8 ms, total: 50.2 ms\n",
      "Wall time: 82.5 ms\n"
     ]
    },
    {
     "data": {
      "text/plain": [
       "{'kcal_100': 363.973063973064,\n",
       " 'mass': 1188.0,\n",
       " 'prot_100': 5.303030303030303,\n",
       " 'fat_100': 20.597643097643097,\n",
       " 'carb_100': 39.2003367003367,\n",
       " 'image': tensor([[[0.1686, 0.1490, 0.1608,  ..., 0.2549, 0.2431, 0.2314],\n",
       "          [0.2078, 0.1843, 0.1882,  ..., 0.2471, 0.2392, 0.2314],\n",
       "          [0.1961, 0.1843, 0.1843,  ..., 0.2510, 0.2510, 0.2353],\n",
       "          ...,\n",
       "          [0.8667, 0.8118, 0.7412,  ..., 0.8706, 0.8706, 0.8510],\n",
       "          [0.8941, 0.8980, 0.8745,  ..., 0.8627, 0.8627, 0.8549],\n",
       "          [0.8863, 0.8863, 0.8902,  ..., 0.8549, 0.8510, 0.8549]],\n",
       " \n",
       "         [[0.1333, 0.0902, 0.0902,  ..., 0.2627, 0.2667, 0.2706],\n",
       "          [0.1765, 0.1333, 0.1333,  ..., 0.2627, 0.2627, 0.2627],\n",
       "          [0.1647, 0.1373, 0.1333,  ..., 0.2745, 0.2627, 0.2627],\n",
       "          ...,\n",
       "          [0.9608, 0.8745, 0.7922,  ..., 0.9725, 0.9725, 0.9608],\n",
       "          [0.9843, 0.9686, 0.9333,  ..., 0.9765, 0.9765, 0.9686],\n",
       "          [0.9922, 0.9882, 0.9843,  ..., 0.9804, 0.9804, 0.9725]],\n",
       " \n",
       "         [[0.1765, 0.1294, 0.1255,  ..., 0.3412, 0.3333, 0.3216],\n",
       "          [0.2314, 0.1804, 0.1686,  ..., 0.3333, 0.3255, 0.3137],\n",
       "          [0.2196, 0.1843, 0.1725,  ..., 0.3412, 0.3216, 0.3098],\n",
       "          ...,\n",
       "          [0.9686, 0.8902, 0.8157,  ..., 0.9961, 1.0000, 0.9843],\n",
       "          [0.9961, 0.9882, 0.9569,  ..., 0.9961, 1.0000, 0.9922],\n",
       "          [0.9922, 0.9882, 0.9843,  ..., 0.9961, 1.0000, 0.9961]]])}"
      ]
     },
     "execution_count": 3,
     "metadata": {},
     "output_type": "execute_result"
    }
   ],
   "source": [
    "%%time\n",
    "fd = FoodDataset(path_to_csv='dataset/train/train.csv', path_to_imgs='dataset/train', is_read_all=False, scale=64)\n",
    "fd[300]"
   ]
  },
  {
   "cell_type": "code",
   "execution_count": 4,
   "id": "647f3381",
   "metadata": {},
   "outputs": [
    {
     "name": "stdout",
     "output_type": "stream",
     "text": [
      "CPU times: user 29.4 s, sys: 769 ms, total: 30.2 s\n",
      "Wall time: 34.2 s\n"
     ]
    },
    {
     "data": {
      "text/plain": [
       "{'kcal_100': 363.973063973064,\n",
       " 'mass': 1188.0,\n",
       " 'prot_100': 5.303030303030303,\n",
       " 'fat_100': 20.597643097643097,\n",
       " 'carb_100': 39.2003367003367,\n",
       " 'image': tensor([[[0.1686, 0.1490, 0.1608,  ..., 0.2549, 0.2431, 0.2314],\n",
       "          [0.2078, 0.1843, 0.1882,  ..., 0.2471, 0.2392, 0.2314],\n",
       "          [0.1961, 0.1843, 0.1843,  ..., 0.2510, 0.2510, 0.2353],\n",
       "          ...,\n",
       "          [0.8667, 0.8118, 0.7412,  ..., 0.8706, 0.8706, 0.8510],\n",
       "          [0.8941, 0.8980, 0.8745,  ..., 0.8627, 0.8627, 0.8549],\n",
       "          [0.8863, 0.8863, 0.8902,  ..., 0.8549, 0.8510, 0.8549]],\n",
       " \n",
       "         [[0.1333, 0.0902, 0.0902,  ..., 0.2627, 0.2667, 0.2706],\n",
       "          [0.1765, 0.1333, 0.1333,  ..., 0.2627, 0.2627, 0.2627],\n",
       "          [0.1647, 0.1373, 0.1333,  ..., 0.2745, 0.2627, 0.2627],\n",
       "          ...,\n",
       "          [0.9608, 0.8745, 0.7922,  ..., 0.9725, 0.9725, 0.9608],\n",
       "          [0.9843, 0.9686, 0.9333,  ..., 0.9765, 0.9765, 0.9686],\n",
       "          [0.9922, 0.9882, 0.9843,  ..., 0.9804, 0.9804, 0.9725]],\n",
       " \n",
       "         [[0.1765, 0.1294, 0.1255,  ..., 0.3412, 0.3333, 0.3216],\n",
       "          [0.2314, 0.1804, 0.1686,  ..., 0.3333, 0.3255, 0.3137],\n",
       "          [0.2196, 0.1843, 0.1725,  ..., 0.3412, 0.3216, 0.3098],\n",
       "          ...,\n",
       "          [0.9686, 0.8902, 0.8157,  ..., 0.9961, 1.0000, 0.9843],\n",
       "          [0.9961, 0.9882, 0.9569,  ..., 0.9961, 1.0000, 0.9922],\n",
       "          [0.9922, 0.9882, 0.9843,  ..., 0.9961, 1.0000, 0.9961]]])}"
      ]
     },
     "execution_count": 4,
     "metadata": {},
     "output_type": "execute_result"
    }
   ],
   "source": [
    "%%time\n",
    "fd = FoodDataset(path_to_csv='dataset/train/train.csv', path_to_imgs='dataset/train', is_read_all=True, scale=64)\n",
    "fd[300]"
   ]
  },
  {
   "cell_type": "code",
   "execution_count": null,
   "id": "03964576",
   "metadata": {},
   "outputs": [],
   "source": []
  },
  {
   "cell_type": "code",
   "execution_count": null,
   "id": "98aee64d",
   "metadata": {},
   "outputs": [],
   "source": []
  },
  {
   "cell_type": "code",
   "execution_count": null,
   "id": "1d461b3b",
   "metadata": {},
   "outputs": [],
   "source": []
  },
  {
   "cell_type": "code",
   "execution_count": null,
   "id": "f1ea9ff2",
   "metadata": {},
   "outputs": [],
   "source": []
  }
 ],
 "metadata": {
  "kernelspec": {
   "display_name": "Python 3 (ipykernel)",
   "language": "python",
   "name": "python3"
  },
  "language_info": {
   "codemirror_mode": {
    "name": "ipython",
    "version": 3
   },
   "file_extension": ".py",
   "mimetype": "text/x-python",
   "name": "python",
   "nbconvert_exporter": "python",
   "pygments_lexer": "ipython3",
   "version": "3.9.12"
  }
 },
 "nbformat": 4,
 "nbformat_minor": 5
}
