{
 "cells": [
  {
   "cell_type": "code",
   "execution_count": 1,
   "id": "1c572e9b",
   "metadata": {},
   "outputs": [],
   "source": [
    "import pandas as pd\n",
    "import numpy as np\n",
    "import os\n",
    "from torch.utils.data import Dataset, DataLoader\n",
    "from torchvision import transforms, utils\n",
    "from PIL import Image\n",
    "import gdown\n",
    "import shutil\n",
    "\n",
    "# Ignore warnings\n",
    "import warnings\n",
    "warnings.filterwarnings(\"ignore\")"
   ]
  },
  {
   "cell_type": "markdown",
   "id": "201179ad",
   "metadata": {},
   "source": [
    "# download files from gdrive"
   ]
  },
  {
   "cell_type": "code",
   "execution_count": 2,
   "id": "f2f65719",
   "metadata": {},
   "outputs": [
    {
     "name": "stderr",
     "output_type": "stream",
     "text": [
      "Downloading...\n",
      "From: https://drive.google.com/uc?id=1JhvXIm23pgpce4CnMowaU-UxquT2n7Lb\n",
      "To: /Volumes/T7/dataset.csv\n",
      "100%|████████████████████████████████████████| 814k/814k [00:00<00:00, 3.36MB/s]"
     ]
    },
    {
     "name": "stdout",
     "output_type": "stream",
     "text": [
      "CPU times: user 49.8 ms, sys: 39.7 ms, total: 89.4 ms\n",
      "Wall time: 1.62 s\n"
     ]
    },
    {
     "name": "stderr",
     "output_type": "stream",
     "text": [
      "\n"
     ]
    },
    {
     "data": {
      "text/plain": [
       "'dataset.csv'"
      ]
     },
     "execution_count": 2,
     "metadata": {},
     "output_type": "execute_result"
    }
   ],
   "source": [
    "%%time\n",
    "gdown.download('https://drive.google.com/file/d/1JhvXIm23pgpce4CnMowaU-UxquT2n7Lb/view?usp=sharing', \n",
    "               'dataset.csv', quiet=False,fuzzy=True)"
   ]
  },
  {
   "cell_type": "code",
   "execution_count": 3,
   "id": "25bf9324",
   "metadata": {
    "scrolled": false
   },
   "outputs": [
    {
     "name": "stderr",
     "output_type": "stream",
     "text": [
      "Downloading...\n",
      "From (uriginal): https://drive.google.com/uc?id=1nizDDIoYYOEl4cD17ftdy0VrEI6TYPUB\n",
      "From (redirected): https://drive.google.com/uc?id=1nizDDIoYYOEl4cD17ftdy0VrEI6TYPUB&confirm=t&uuid=d4de65ef-8e39-49f2-8325-706aa46d4a3e\n",
      "To: /Volumes/T7/dataset.zip\n",
      "100%|██████████████████████████████████████| 1.61G/1.61G [05:48<00:00, 4.62MB/s]\n"
     ]
    },
    {
     "name": "stdout",
     "output_type": "stream",
     "text": [
      "CPU times: user 9.94 s, sys: 24.2 s, total: 34.1 s\n",
      "Wall time: 5min 50s\n"
     ]
    },
    {
     "data": {
      "text/plain": [
       "'dataset.zip'"
      ]
     },
     "execution_count": 3,
     "metadata": {},
     "output_type": "execute_result"
    }
   ],
   "source": [
    "%%time\n",
    "gdown.download('https://drive.google.com/file/d/1nizDDIoYYOEl4cD17ftdy0VrEI6TYPUB/view?usp=sharing', \n",
    "               quiet=False,fuzzy=True)"
   ]
  },
  {
   "cell_type": "markdown",
   "id": "02386aa4",
   "metadata": {},
   "source": [
    "# unzip files"
   ]
  },
  {
   "cell_type": "code",
   "execution_count": 4,
   "id": "a00d1d7f",
   "metadata": {},
   "outputs": [
    {
     "name": "stdout",
     "output_type": "stream",
     "text": [
      "CPU times: user 6.62 s, sys: 7.46 s, total: 14.1 s\n",
      "Wall time: 1min 34s\n"
     ]
    }
   ],
   "source": [
    "%%time\n",
    "shutil.unpack_archive('dataset.zip', '')"
   ]
  },
  {
   "cell_type": "code",
   "execution_count": 6,
   "id": "13acc7de",
   "metadata": {},
   "outputs": [],
   "source": [
    "os.remove('dataset.zip')"
   ]
  },
  {
   "cell_type": "markdown",
   "id": "a20d8570",
   "metadata": {},
   "source": [
    "# dataset"
   ]
  },
  {
   "cell_type": "code",
   "execution_count": 7,
   "id": "54e360cc",
   "metadata": {},
   "outputs": [],
   "source": [
    "class FoodDataset(Dataset):\n",
    "\n",
    "    def __init__(self, path_to_csv: str, path_to_imgs: str, is_read_all: bool, scale: int):\n",
    "        self.nutr_info = pd.read_csv(path_to_csv)\n",
    "        self.path_to_imgs = path_to_imgs\n",
    "        self.is_read_all = is_read_all\n",
    "        self.scale = scale\n",
    "        if self.is_read_all:\n",
    "            self.images = [self.transform(Image.open(f'{self.path_to_imgs}/{i}.png')) \n",
    "                           for i in range(len(self.nutr_info))]\n",
    "\n",
    "    def __len__(self):\n",
    "        return len(self.self.nutr_info)\n",
    "    \n",
    "    def transform(self, img):\n",
    "        size = min(img.size)\n",
    "        return transforms.Compose([transforms.CenterCrop(size), \n",
    "                                   transforms.Resize(self.scale), \n",
    "                                   transforms.ToTensor()])(img)\n",
    "    \n",
    "    def __getitem__(self, idx):\n",
    "        sample = dict(self.nutr_info.iloc[idx])\n",
    "        if self.is_read_all:\n",
    "            image = self.images[idx]\n",
    "        else:\n",
    "            image = self.transform(Image.open(f'{self.path_to_imgs}/{idx}.png'))\n",
    "        sample['image'] = image\n",
    "        return sample"
   ]
  },
  {
   "cell_type": "code",
   "execution_count": 10,
   "id": "441ba079",
   "metadata": {},
   "outputs": [
    {
     "name": "stdout",
     "output_type": "stream",
     "text": [
      "CPU times: user 28.9 ms, sys: 6.78 ms, total: 35.6 ms\n",
      "Wall time: 85.8 ms\n"
     ]
    },
    {
     "data": {
      "text/plain": [
       "{'mass': 100.0,\n",
       " 'kcal_total': 163.0,\n",
       " 'prot_total': 20.3,\n",
       " 'fat_total': 9.1,\n",
       " 'carb_total': 0.1,\n",
       " 'kcal_100': 163.0,\n",
       " 'prot_100': 20.3,\n",
       " 'fat_100': 9.1,\n",
       " 'carb_100': 0.1,\n",
       " 'text': 'Salmon, smoked, in slices, Fish',\n",
       " 'image': tensor([[[0.1843, 0.2784, 0.2941,  ..., 0.1804, 0.1725, 0.1647],\n",
       "          [0.2667, 0.2902, 0.3216,  ..., 0.1608, 0.1529, 0.1529],\n",
       "          [0.1765, 0.2471, 0.3451,  ..., 0.1059, 0.1020, 0.0980],\n",
       "          ...,\n",
       "          [0.8627, 0.8627, 0.8863,  ..., 0.8196, 0.8196, 0.8157],\n",
       "          [0.8745, 0.8706, 0.8784,  ..., 0.8235, 0.8157, 0.8118],\n",
       "          [0.8824, 0.8824, 0.8863,  ..., 0.8078, 0.8078, 0.8000]],\n",
       " \n",
       "         [[0.1098, 0.1765, 0.2000,  ..., 0.3176, 0.3059, 0.2941],\n",
       "          [0.1725, 0.1843, 0.2471,  ..., 0.2980, 0.2902, 0.2824],\n",
       "          [0.1098, 0.1686, 0.2863,  ..., 0.1961, 0.1922, 0.1882],\n",
       "          ...,\n",
       "          [0.7961, 0.7882, 0.8235,  ..., 0.6314, 0.6353, 0.6118],\n",
       "          [0.8706, 0.8667, 0.8706,  ..., 0.6353, 0.6078, 0.5804],\n",
       "          [0.8902, 0.8902, 0.8941,  ..., 0.6392, 0.5961, 0.5529]],\n",
       " \n",
       "         [[0.0392, 0.0667, 0.0863,  ..., 0.4157, 0.4039, 0.3882],\n",
       "          [0.0588, 0.0706, 0.1176,  ..., 0.4196, 0.4078, 0.3961],\n",
       "          [0.0471, 0.0824, 0.1412,  ..., 0.2902, 0.2824, 0.2784],\n",
       "          ...,\n",
       "          [0.5020, 0.4706, 0.5529,  ..., 0.2039, 0.1882, 0.1686],\n",
       "          [0.7843, 0.7569, 0.7608,  ..., 0.2039, 0.1725, 0.1569],\n",
       "          [0.8353, 0.8353, 0.8431,  ..., 0.2784, 0.1922, 0.1412]]])}"
      ]
     },
     "execution_count": 10,
     "metadata": {},
     "output_type": "execute_result"
    }
   ],
   "source": [
    "%%time\n",
    "fd = FoodDataset(path_to_csv='dataset.csv', path_to_imgs='dataset', is_read_all=False, scale=64)\n",
    "fd[300]"
   ]
  },
  {
   "cell_type": "code",
   "execution_count": 11,
   "id": "647f3381",
   "metadata": {},
   "outputs": [
    {
     "name": "stdout",
     "output_type": "stream",
     "text": [
      "CPU times: user 33.7 s, sys: 1.51 s, total: 35.2 s\n",
      "Wall time: 1min 56s\n"
     ]
    },
    {
     "data": {
      "text/plain": [
       "{'mass': 100.0,\n",
       " 'kcal_total': 163.0,\n",
       " 'prot_total': 20.3,\n",
       " 'fat_total': 9.1,\n",
       " 'carb_total': 0.1,\n",
       " 'kcal_100': 163.0,\n",
       " 'prot_100': 20.3,\n",
       " 'fat_100': 9.1,\n",
       " 'carb_100': 0.1,\n",
       " 'text': 'Salmon, smoked, in slices, Fish',\n",
       " 'image': tensor([[[0.1843, 0.2784, 0.2941,  ..., 0.1804, 0.1725, 0.1647],\n",
       "          [0.2667, 0.2902, 0.3216,  ..., 0.1608, 0.1529, 0.1529],\n",
       "          [0.1765, 0.2471, 0.3451,  ..., 0.1059, 0.1020, 0.0980],\n",
       "          ...,\n",
       "          [0.8627, 0.8627, 0.8863,  ..., 0.8196, 0.8196, 0.8157],\n",
       "          [0.8745, 0.8706, 0.8784,  ..., 0.8235, 0.8157, 0.8118],\n",
       "          [0.8824, 0.8824, 0.8863,  ..., 0.8078, 0.8078, 0.8000]],\n",
       " \n",
       "         [[0.1098, 0.1765, 0.2000,  ..., 0.3176, 0.3059, 0.2941],\n",
       "          [0.1725, 0.1843, 0.2471,  ..., 0.2980, 0.2902, 0.2824],\n",
       "          [0.1098, 0.1686, 0.2863,  ..., 0.1961, 0.1922, 0.1882],\n",
       "          ...,\n",
       "          [0.7961, 0.7882, 0.8235,  ..., 0.6314, 0.6353, 0.6118],\n",
       "          [0.8706, 0.8667, 0.8706,  ..., 0.6353, 0.6078, 0.5804],\n",
       "          [0.8902, 0.8902, 0.8941,  ..., 0.6392, 0.5961, 0.5529]],\n",
       " \n",
       "         [[0.0392, 0.0667, 0.0863,  ..., 0.4157, 0.4039, 0.3882],\n",
       "          [0.0588, 0.0706, 0.1176,  ..., 0.4196, 0.4078, 0.3961],\n",
       "          [0.0471, 0.0824, 0.1412,  ..., 0.2902, 0.2824, 0.2784],\n",
       "          ...,\n",
       "          [0.5020, 0.4706, 0.5529,  ..., 0.2039, 0.1882, 0.1686],\n",
       "          [0.7843, 0.7569, 0.7608,  ..., 0.2039, 0.1725, 0.1569],\n",
       "          [0.8353, 0.8353, 0.8431,  ..., 0.2784, 0.1922, 0.1412]]])}"
      ]
     },
     "execution_count": 11,
     "metadata": {},
     "output_type": "execute_result"
    }
   ],
   "source": [
    "%%time\n",
    "fd = FoodDataset(path_to_csv='dataset.csv', path_to_imgs='dataset', is_read_all=True, scale=64)\n",
    "fd[300]"
   ]
  },
  {
   "cell_type": "code",
   "execution_count": null,
   "id": "2f5f2f57",
   "metadata": {},
   "outputs": [],
   "source": []
  }
 ],
 "metadata": {
  "kernelspec": {
   "display_name": "Python 3 (ipykernel)",
   "language": "python",
   "name": "python3"
  },
  "language_info": {
   "codemirror_mode": {
    "name": "ipython",
    "version": 3
   },
   "file_extension": ".py",
   "mimetype": "text/x-python",
   "name": "python",
   "nbconvert_exporter": "python",
   "pygments_lexer": "ipython3",
   "version": "3.9.12"
  }
 },
 "nbformat": 4,
 "nbformat_minor": 5
}
