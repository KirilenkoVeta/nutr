{
 "cells": [
  {
   "cell_type": "code",
   "execution_count": 1,
   "id": "1c572e9b",
   "metadata": {},
   "outputs": [],
   "source": [
    "import pandas as pd\n",
    "import numpy as np\n",
    "import os\n",
    "from torch.utils.data import Dataset, DataLoader\n",
    "from torchvision import transforms, utils\n",
    "from PIL import Image\n",
    "import gdown\n",
    "import shutil\n",
    "import seaborn as sns\n",
    "\n",
    "# Ignore warnings\n",
    "import warnings\n",
    "warnings.filterwarnings(\"ignore\")"
   ]
  },
  {
   "cell_type": "markdown",
   "id": "201179ad",
   "metadata": {},
   "source": [
    "# download files from gdrive"
   ]
  },
  {
   "cell_type": "code",
   "execution_count": 2,
   "id": "25bf9324",
   "metadata": {
    "scrolled": false
   },
   "outputs": [
    {
     "name": "stderr",
     "output_type": "stream",
     "text": [
      "Downloading...\n",
      "From (uriginal): https://drive.google.com/uc?id=1RjFrBLyNTjzYN9ow8HVfQFl3CYcGz8qM\n",
      "From (redirected): https://drive.google.com/uc?id=1RjFrBLyNTjzYN9ow8HVfQFl3CYcGz8qM&confirm=t&uuid=343d5b94-6bfa-48f2-819b-b494e3daa524\n",
      "To: /Volumes/T7/dataset.zip\n",
      "100%|██████████████████████████████████████| 1.61G/1.61G [03:20<00:00, 8.05MB/s]"
     ]
    },
    {
     "name": "stdout",
     "output_type": "stream",
     "text": [
      "CPU times: user 8.34 s, sys: 9.72 s, total: 18.1 s\n",
      "Wall time: 3min 22s\n"
     ]
    },
    {
     "name": "stderr",
     "output_type": "stream",
     "text": [
      "\n"
     ]
    },
    {
     "data": {
      "text/plain": [
       "'dataset.zip'"
      ]
     },
     "execution_count": 2,
     "metadata": {},
     "output_type": "execute_result"
    }
   ],
   "source": [
    "%%time\n",
    "gdown.download('https://drive.google.com/file/d/1RjFrBLyNTjzYN9ow8HVfQFl3CYcGz8qM/view?usp=sharing', \n",
    "               quiet=False,fuzzy=True)"
   ]
  },
  {
   "cell_type": "markdown",
   "id": "02386aa4",
   "metadata": {},
   "source": [
    "# unzip files"
   ]
  },
  {
   "cell_type": "code",
   "execution_count": 3,
   "id": "a00d1d7f",
   "metadata": {},
   "outputs": [
    {
     "name": "stdout",
     "output_type": "stream",
     "text": [
      "CPU times: user 6.22 s, sys: 5.8 s, total: 12 s\n",
      "Wall time: 16.5 s\n"
     ]
    }
   ],
   "source": [
    "%%time\n",
    "shutil.unpack_archive('dataset.zip', '')\n",
    "os.remove('dataset.zip')"
   ]
  },
  {
   "cell_type": "markdown",
   "id": "a20d8570",
   "metadata": {},
   "source": [
    "# dataset"
   ]
  },
  {
   "cell_type": "code",
   "execution_count": 4,
   "id": "54e360cc",
   "metadata": {},
   "outputs": [],
   "source": [
    "class FoodDataset(Dataset):\n",
    "\n",
    "    def __init__(self, path_to_csv: str, path_to_imgs: str, is_read_all: bool, scale: int):\n",
    "        self.nutr_info = pd.read_csv(path_to_csv)\n",
    "        self.path_to_imgs = path_to_imgs\n",
    "        self.is_read_all = is_read_all\n",
    "        self.scale = scale\n",
    "        if self.is_read_all:\n",
    "            self.images = [self.transform(Image.open(f'{self.path_to_imgs}/{i}.png')) \n",
    "                           for i in self.nutr_info.img]\n",
    "\n",
    "    def __len__(self):\n",
    "        return len(self.self.nutr_info)\n",
    "    \n",
    "    def transform(self, img):\n",
    "        size = min(img.size)\n",
    "        return transforms.Compose([transforms.CenterCrop(size), \n",
    "                                   transforms.Resize(self.scale), \n",
    "                                   transforms.ToTensor()])(img)\n",
    "    \n",
    "    def __getitem__(self, idx):\n",
    "        sample = dict(self.nutr_info[['kcal_total', 'mass', 'prot_total', \n",
    "                                      'fat_total', 'carb_total']].iloc[idx])\n",
    "        if self.is_read_all:\n",
    "            image = self.images[idx]\n",
    "        else:\n",
    "            image = self.transform(Image.open(\n",
    "                f'{self.path_to_imgs}/{self.nutr_info.img.iloc[idx]}.png'))\n",
    "        sample['image'] = image\n",
    "        return sample"
   ]
  },
  {
   "cell_type": "code",
   "execution_count": 5,
   "id": "441ba079",
   "metadata": {},
   "outputs": [
    {
     "name": "stdout",
     "output_type": "stream",
     "text": [
      "CPU times: user 27.6 ms, sys: 7.92 ms, total: 35.6 ms\n",
      "Wall time: 249 ms\n"
     ]
    },
    {
     "data": {
      "text/plain": [
       "{'kcal_total': 4324.0,\n",
       " 'mass': 1188.0,\n",
       " 'prot_total': 63.0,\n",
       " 'fat_total': 244.7,\n",
       " 'carb_total': 465.7,\n",
       " 'image': tensor([[[0.1686, 0.1490, 0.1608,  ..., 0.2549, 0.2431, 0.2314],\n",
       "          [0.2078, 0.1843, 0.1882,  ..., 0.2471, 0.2392, 0.2314],\n",
       "          [0.1961, 0.1843, 0.1843,  ..., 0.2510, 0.2510, 0.2353],\n",
       "          ...,\n",
       "          [0.8667, 0.8118, 0.7412,  ..., 0.8706, 0.8706, 0.8510],\n",
       "          [0.8941, 0.8980, 0.8745,  ..., 0.8627, 0.8627, 0.8549],\n",
       "          [0.8863, 0.8863, 0.8902,  ..., 0.8549, 0.8510, 0.8549]],\n",
       " \n",
       "         [[0.1333, 0.0902, 0.0902,  ..., 0.2627, 0.2667, 0.2706],\n",
       "          [0.1765, 0.1333, 0.1333,  ..., 0.2627, 0.2627, 0.2627],\n",
       "          [0.1647, 0.1373, 0.1333,  ..., 0.2745, 0.2627, 0.2627],\n",
       "          ...,\n",
       "          [0.9608, 0.8745, 0.7922,  ..., 0.9725, 0.9725, 0.9608],\n",
       "          [0.9843, 0.9686, 0.9333,  ..., 0.9765, 0.9765, 0.9686],\n",
       "          [0.9922, 0.9882, 0.9843,  ..., 0.9804, 0.9804, 0.9725]],\n",
       " \n",
       "         [[0.1765, 0.1294, 0.1255,  ..., 0.3412, 0.3333, 0.3216],\n",
       "          [0.2314, 0.1804, 0.1686,  ..., 0.3333, 0.3255, 0.3137],\n",
       "          [0.2196, 0.1843, 0.1725,  ..., 0.3412, 0.3216, 0.3098],\n",
       "          ...,\n",
       "          [0.9686, 0.8902, 0.8157,  ..., 0.9961, 1.0000, 0.9843],\n",
       "          [0.9961, 0.9882, 0.9569,  ..., 0.9961, 1.0000, 0.9922],\n",
       "          [0.9922, 0.9882, 0.9843,  ..., 0.9961, 1.0000, 0.9961]]])}"
      ]
     },
     "execution_count": 5,
     "metadata": {},
     "output_type": "execute_result"
    }
   ],
   "source": [
    "%%time\n",
    "fd = FoodDataset(path_to_csv='dataset/train/train.csv', path_to_imgs='dataset/train', is_read_all=False, scale=64)\n",
    "fd[300]"
   ]
  },
  {
   "cell_type": "code",
   "execution_count": 6,
   "id": "647f3381",
   "metadata": {},
   "outputs": [
    {
     "name": "stdout",
     "output_type": "stream",
     "text": [
      "CPU times: user 29.4 s, sys: 818 ms, total: 30.2 s\n",
      "Wall time: 42 s\n"
     ]
    },
    {
     "data": {
      "text/plain": [
       "{'kcal_total': 4324.0,\n",
       " 'mass': 1188.0,\n",
       " 'prot_total': 63.0,\n",
       " 'fat_total': 244.7,\n",
       " 'carb_total': 465.7,\n",
       " 'image': tensor([[[0.1686, 0.1490, 0.1608,  ..., 0.2549, 0.2431, 0.2314],\n",
       "          [0.2078, 0.1843, 0.1882,  ..., 0.2471, 0.2392, 0.2314],\n",
       "          [0.1961, 0.1843, 0.1843,  ..., 0.2510, 0.2510, 0.2353],\n",
       "          ...,\n",
       "          [0.8667, 0.8118, 0.7412,  ..., 0.8706, 0.8706, 0.8510],\n",
       "          [0.8941, 0.8980, 0.8745,  ..., 0.8627, 0.8627, 0.8549],\n",
       "          [0.8863, 0.8863, 0.8902,  ..., 0.8549, 0.8510, 0.8549]],\n",
       " \n",
       "         [[0.1333, 0.0902, 0.0902,  ..., 0.2627, 0.2667, 0.2706],\n",
       "          [0.1765, 0.1333, 0.1333,  ..., 0.2627, 0.2627, 0.2627],\n",
       "          [0.1647, 0.1373, 0.1333,  ..., 0.2745, 0.2627, 0.2627],\n",
       "          ...,\n",
       "          [0.9608, 0.8745, 0.7922,  ..., 0.9725, 0.9725, 0.9608],\n",
       "          [0.9843, 0.9686, 0.9333,  ..., 0.9765, 0.9765, 0.9686],\n",
       "          [0.9922, 0.9882, 0.9843,  ..., 0.9804, 0.9804, 0.9725]],\n",
       " \n",
       "         [[0.1765, 0.1294, 0.1255,  ..., 0.3412, 0.3333, 0.3216],\n",
       "          [0.2314, 0.1804, 0.1686,  ..., 0.3333, 0.3255, 0.3137],\n",
       "          [0.2196, 0.1843, 0.1725,  ..., 0.3412, 0.3216, 0.3098],\n",
       "          ...,\n",
       "          [0.9686, 0.8902, 0.8157,  ..., 0.9961, 1.0000, 0.9843],\n",
       "          [0.9961, 0.9882, 0.9569,  ..., 0.9961, 1.0000, 0.9922],\n",
       "          [0.9922, 0.9882, 0.9843,  ..., 0.9961, 1.0000, 0.9961]]])}"
      ]
     },
     "execution_count": 6,
     "metadata": {},
     "output_type": "execute_result"
    }
   ],
   "source": [
    "%%time\n",
    "fd = FoodDataset(path_to_csv='dataset/train/train.csv', path_to_imgs='dataset/train', is_read_all=True, scale=64)\n",
    "fd[300]"
   ]
  },
  {
   "cell_type": "code",
   "execution_count": 8,
   "id": "60f7b840",
   "metadata": {},
   "outputs": [
    {
     "data": {
      "text/plain": [
       "tensor([[[0.1686, 0.1490, 0.1608,  ..., 0.2549, 0.2431, 0.2314],\n",
       "         [0.2078, 0.1843, 0.1882,  ..., 0.2471, 0.2392, 0.2314],\n",
       "         [0.1961, 0.1843, 0.1843,  ..., 0.2510, 0.2510, 0.2353],\n",
       "         ...,\n",
       "         [0.8667, 0.8118, 0.7412,  ..., 0.8706, 0.8706, 0.8510],\n",
       "         [0.8941, 0.8980, 0.8745,  ..., 0.8627, 0.8627, 0.8549],\n",
       "         [0.8863, 0.8863, 0.8902,  ..., 0.8549, 0.8510, 0.8549]],\n",
       "\n",
       "        [[0.1333, 0.0902, 0.0902,  ..., 0.2627, 0.2667, 0.2706],\n",
       "         [0.1765, 0.1333, 0.1333,  ..., 0.2627, 0.2627, 0.2627],\n",
       "         [0.1647, 0.1373, 0.1333,  ..., 0.2745, 0.2627, 0.2627],\n",
       "         ...,\n",
       "         [0.9608, 0.8745, 0.7922,  ..., 0.9725, 0.9725, 0.9608],\n",
       "         [0.9843, 0.9686, 0.9333,  ..., 0.9765, 0.9765, 0.9686],\n",
       "         [0.9922, 0.9882, 0.9843,  ..., 0.9804, 0.9804, 0.9725]],\n",
       "\n",
       "        [[0.1765, 0.1294, 0.1255,  ..., 0.3412, 0.3333, 0.3216],\n",
       "         [0.2314, 0.1804, 0.1686,  ..., 0.3333, 0.3255, 0.3137],\n",
       "         [0.2196, 0.1843, 0.1725,  ..., 0.3412, 0.3216, 0.3098],\n",
       "         ...,\n",
       "         [0.9686, 0.8902, 0.8157,  ..., 0.9961, 1.0000, 0.9843],\n",
       "         [0.9961, 0.9882, 0.9569,  ..., 0.9961, 1.0000, 0.9922],\n",
       "         [0.9922, 0.9882, 0.9843,  ..., 0.9961, 1.0000, 0.9961]]])"
      ]
     },
     "execution_count": 8,
     "metadata": {},
     "output_type": "execute_result"
    }
   ],
   "source": [
    "transforms.Compose([transforms.CenterCrop(208), \n",
    "                    transforms.Resize(64), \n",
    "                    transforms.ToTensor()])(Image.open(\n",
    "    f'dataset/train/{pd.read_csv(\"dataset/train/train.csv\").img.iloc[300]}.png'))"
   ]
  },
  {
   "cell_type": "code",
   "execution_count": null,
   "id": "03964576",
   "metadata": {},
   "outputs": [],
   "source": []
  },
  {
   "cell_type": "code",
   "execution_count": null,
   "id": "98aee64d",
   "metadata": {},
   "outputs": [],
   "source": []
  },
  {
   "cell_type": "code",
   "execution_count": null,
   "id": "1d461b3b",
   "metadata": {},
   "outputs": [],
   "source": []
  },
  {
   "cell_type": "code",
   "execution_count": null,
   "id": "f1ea9ff2",
   "metadata": {},
   "outputs": [],
   "source": []
  }
 ],
 "metadata": {
  "kernelspec": {
   "display_name": "Python 3 (ipykernel)",
   "language": "python",
   "name": "python3"
  },
  "language_info": {
   "codemirror_mode": {
    "name": "ipython",
    "version": 3
   },
   "file_extension": ".py",
   "mimetype": "text/x-python",
   "name": "python",
   "nbconvert_exporter": "python",
   "pygments_lexer": "ipython3",
   "version": "3.9.12"
  }
 },
 "nbformat": 4,
 "nbformat_minor": 5
}
