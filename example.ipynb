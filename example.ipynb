{
 "cells": [
  {
   "cell_type": "code",
   "execution_count": 1,
   "id": "9ba417e8",
   "metadata": {},
   "outputs": [],
   "source": [
    "import pandas as pd\n",
    "import numpy as np\n",
    "import seaborn as sns\n",
    "import matplotlib.pyplot as plt\n",
    "from scipy import stats as st\n",
    "from os import listdir, mkdir\n",
    "from bs4 import BeautifulSoup\n",
    "import requests\n",
    "import hashlib\n",
    "import urllib.request\n",
    "import json\n",
    "from IPython.display import Image\n",
    "from IPython.core.display import HTML \n",
    "\n",
    "from foodpal import get_from_page\n",
    "from weightloss import get_from_url\n",
    "from fddb import get_info_from_url, get_urls_from_groups"
   ]
  },
  {
   "cell_type": "markdown",
   "id": "e150faf5",
   "metadata": {},
   "source": [
    "# FDDB"
   ]
  },
  {
   "cell_type": "code",
   "execution_count": 2,
   "id": "7756a246",
   "metadata": {},
   "outputs": [
    {
     "name": "stdout",
     "output_type": "stream",
     "text": [
      "https://fddb.info/db/en/food/baker_vegetable_honeycomb/index.html\n",
      "{'dataset_info': 'fddb', 'dish_id': 'dish_f006a07a30e5d4ec3a3a7ff899b4f679', 'path_default': 'dish_f006a07a30e5d4ec3a3a7ff899b4f679/rgb.png', 'path_additional': None, 'mass': 200.0, 'kcal_total': 418.0, 'prot_total': 18.0, 'fat_total': 20.0, 'carb_total': 42.0, 'kcal_100': 209.0, 'prot_100': 9.0, 'fat_100': 10.0, 'carb_100': 21.0, 'ingridients': None, 'text': 'Vegetable honeycomb, Dishes', 'img_exist': 1, 'link': 'https://fddb.info/static/db/980/8NQB3KUQE7VU992HU2PWUU17.jpg', 'url': 'https://fddb.info/db/en/food/baker_vegetable_honeycomb/index.html'}\n"
     ]
    },
    {
     "data": {
      "text/html": [
       "<img src=\"dish_f006a07a30e5d4ec3a3a7ff899b4f679/rgb.png\"/>"
      ],
      "text/plain": [
       "<IPython.core.display.Image object>"
      ]
     },
     "execution_count": 2,
     "metadata": {},
     "output_type": "execute_result"
    }
   ],
   "source": [
    "print(get_urls_from_groups('https://fddb.info/db/en/groups/dishes/index.html')[15])\n",
    "print(get_info_from_url(get_urls_from_groups('https://fddb.info/db/en/groups/dishes/index.html')[15]))\n",
    "Image(url= \"dish_f006a07a30e5d4ec3a3a7ff899b4f679/rgb.png\")"
   ]
  },
  {
   "cell_type": "markdown",
   "id": "d525a0b7",
   "metadata": {},
   "source": [
    "# foodpal"
   ]
  },
  {
   "cell_type": "code",
   "execution_count": 3,
   "id": "d3f7cf73",
   "metadata": {},
   "outputs": [
    {
     "data": {
      "text/plain": [
       "{'Animal fats': 'https://www.foodpal-app.com/en/calorie-table/animal-fats',\n",
       " 'Baking ingredients': 'https://www.foodpal-app.com/en/calorie-table/baking-ingredients',\n",
       " 'Bread, buns and pastries': 'https://www.foodpal-app.com/en/calorie-table/bread-buns-and-pastries',\n",
       " 'Cakes and pies': 'https://www.foodpal-app.com/en/calorie-table/cakes-and-pies',\n",
       " 'Canned fish': 'https://www.foodpal-app.com/en/calorie-table/canned-fish',\n",
       " 'Canned fruit': 'https://www.foodpal-app.com/en/calorie-table/canned-fruit',\n",
       " 'Canned vegetables': 'https://www.foodpal-app.com/en/calorie-table/canned-vegetables',\n",
       " 'Cereal products': 'https://www.foodpal-app.com/en/calorie-table/cereal-products',\n",
       " 'cheese': 'https://www.foodpal-app.com/en/calorie-table/cheese',\n",
       " 'chocolate': 'https://www.foodpal-app.com/en/calorie-table/chocolate',\n",
       " 'Coffee drinks': 'https://www.foodpal-app.com/en/calorie-table/coffee-drinks',\n",
       " 'Cold cuts': 'https://www.foodpal-app.com/en/calorie-table/cold-cuts',\n",
       " 'Confectionery': 'https://www.foodpal-app.com/en/calorie-table/confectionery',\n",
       " 'Cream cheese': 'https://www.foodpal-app.com/en/calorie-table/cream-cheese',\n",
       " 'Desserts': 'https://www.foodpal-app.com/en/calorie-table/desserts',\n",
       " 'Dishes and dishes': 'https://www.foodpal-app.com/en/calorie-table/dishes-and-dishes',\n",
       " 'Dried fruit': 'https://www.foodpal-app.com/en/calorie-table/dried-fruit',\n",
       " 'Drinks (alcoholic)': 'https://www.foodpal-app.com/en/calorie-table/drinks-alcoholic',\n",
       " 'Drinks (non-alcoholic)': 'https://www.foodpal-app.com/en/calorie-table/drinks-non-alcoholic',\n",
       " 'Exotic fruits': 'https://www.foodpal-app.com/en/calorie-table/exotic-fruits',\n",
       " 'Fast Food': 'https://www.foodpal-app.com/en/calorie-table/fast-food',\n",
       " 'Fish and fish products': 'https://www.foodpal-app.com/en/calorie-table/fish-and-fish-products',\n",
       " 'Flour': 'https://www.foodpal-app.com/en/calorie-table/flour',\n",
       " 'Food supplement': 'https://www.foodpal-app.com/en/calorie-table/food-supplement',\n",
       " 'Frozen products': 'https://www.foodpal-app.com/en/calorie-table/frozen-products',\n",
       " 'Fruit and fruit products': 'https://www.foodpal-app.com/en/calorie-table/fruit-and-fruit-products',\n",
       " 'Fruit juices': 'https://www.foodpal-app.com/en/calorie-table/fruit-juices',\n",
       " 'Game meat': 'https://www.foodpal-app.com/en/calorie-table/game-meat',\n",
       " 'Ice cream': 'https://www.foodpal-app.com/en/calorie-table/ice-cream',\n",
       " 'Legumes': 'https://www.foodpal-app.com/en/calorie-table/legumes',\n",
       " 'meat': 'https://www.foodpal-app.com/en/calorie-table/meat',\n",
       " 'Milk and milk products': 'https://www.foodpal-app.com/en/calorie-table/milk-and-milk-products',\n",
       " 'Miscellaneous': 'https://www.foodpal-app.com/en/calorie-table/miscellaneous',\n",
       " 'Muesli, cornflakes and flakes': 'https://www.foodpal-app.com/en/calorie-table/muesli-cornflakes-and-flakes',\n",
       " 'Mushrooms': 'https://www.foodpal-app.com/en/calorie-table/mushrooms',\n",
       " 'Nuts and seeds': 'https://www.foodpal-app.com/en/calorie-table/nuts-and-seeds',\n",
       " 'Offal': 'https://www.foodpal-app.com/en/calorie-table/offal',\n",
       " 'Oils and fats': 'https://www.foodpal-app.com/en/calorie-table/oils-and-fats',\n",
       " 'Pasta and noodles': 'https://www.foodpal-app.com/en/calorie-table/pasta-and-noodles',\n",
       " 'Pasta dishes': 'https://www.foodpal-app.com/en/calorie-table/pasta-dishes',\n",
       " 'Pizza': 'https://www.foodpal-app.com/en/calorie-table/pizza',\n",
       " 'Pork': 'https://www.foodpal-app.com/en/calorie-table/pork',\n",
       " 'Potato products': 'https://www.foodpal-app.com/en/calorie-table/potato-products',\n",
       " 'Poultry': 'https://www.foodpal-app.com/en/calorie-table/poultry',\n",
       " 'quark': 'https://www.foodpal-app.com/en/calorie-table/quark',\n",
       " 'Rice products': 'https://www.foodpal-app.com/en/calorie-table/rice-products',\n",
       " 'Salad': 'https://www.foodpal-app.com/en/calorie-table/salad',\n",
       " 'Sauces and dressing': 'https://www.foodpal-app.com/en/calorie-table/sauces-and-dressing',\n",
       " 'Sausage': 'https://www.foodpal-app.com/en/calorie-table/sausage',\n",
       " 'Seafood': 'https://www.foodpal-app.com/en/calorie-table/seafood',\n",
       " 'Smoked fish': 'https://www.foodpal-app.com/en/calorie-table/smoked-fish',\n",
       " 'Soft cheese': 'https://www.foodpal-app.com/en/calorie-table/soft-cheese',\n",
       " 'Soups': 'https://www.foodpal-app.com/en/calorie-table/soups',\n",
       " 'Soy products': 'https://www.foodpal-app.com/en/calorie-table/soy-products',\n",
       " 'Spices and herbs': 'https://www.foodpal-app.com/en/calorie-table/spices-and-herbs',\n",
       " 'Spread': 'https://www.foodpal-app.com/en/calorie-table/spread',\n",
       " 'Tea': 'https://www.foodpal-app.com/en/calorie-table/tea',\n",
       " 'Veal and beef': 'https://www.foodpal-app.com/en/calorie-table/veal-and-beef',\n",
       " 'Vegan dishes': 'https://www.foodpal-app.com/en/calorie-table/vegan-dishes',\n",
       " 'Vegetable juices': 'https://www.foodpal-app.com/en/calorie-table/vegetable-juices',\n",
       " 'Vegetable oils': 'https://www.foodpal-app.com/en/calorie-table/vegetable-oils',\n",
       " 'Vegetables': 'https://www.foodpal-app.com/en/calorie-table/vegetables',\n",
       " 'Vegetarian dishes': 'https://www.foodpal-app.com/en/calorie-table/vegetarian-dishes',\n",
       " 'yogurt': 'https://www.foodpal-app.com/en/calorie-table/yogurt'}"
      ]
     },
     "execution_count": 3,
     "metadata": {},
     "output_type": "execute_result"
    }
   ],
   "source": [
    "categories = {}\n",
    "for i in ['', '/2', '/3', '/4']:\n",
    "    page = requests.get('https://www.foodpal-app.com/en/calorie-table' + i)\n",
    "    page = BeautifulSoup(page.text, \"html.parser\")\n",
    "    for j in page.find_all('a', class_='d-block mb-4 reco'):\n",
    "        categories[j.attrs['title']] = j.attrs['href']\n",
    "categories"
   ]
  },
  {
   "cell_type": "code",
   "execution_count": 4,
   "id": "0c410391",
   "metadata": {},
   "outputs": [
    {
     "data": {
      "text/plain": [
       "<a href=\"https://www.foodpal-app.com/en/calorie-table/p/tofu-natural\" style=\"color:#333;display:block;margin-top:2px;padding:2px 0px;border-bottom:1px solid #eaeaea;\" title=\"Tofu (natural)\">\n",
       "<div class=\"hover\"><div style=\"width:60px;float:left;\"><img alt=\"Tofu (natural)\" class=\"lazy img-fluid\" data-src=\"https://www.foodpal-app.com/uploads/images/food/9446/tofu-natur-604a65311505b-50.webp\" height=\"50\" src=\"https://www.foodpal-app.com/datas/images/homepage/blank.svg\" style=\"display:inline-block;margin-right:10px;height:50px;\" title=\"Tofu (natural)\" width=\"50\"/></div><div style=\"float:left;width:calc(100% - 60px);\"><div class=\"headline\">Tofu (natural)</div><span style=\"font-size:0.7em;\">Listed in the category Vegan dishes</span></div><div style=\"clear:both;\"></div></div>\n",
       "</a>"
      ]
     },
     "execution_count": 4,
     "metadata": {},
     "output_type": "execute_result"
    }
   ],
   "source": [
    "page = requests.get(categories['Vegan dishes'])\n",
    "page = BeautifulSoup(page.text, \"html.parser\")\n",
    "i = page.find_all(\n",
    "    'a',style=\"color:#333;display:block;margin-top:2px;padding:2px 0px;border-bottom:1px solid #eaeaea;\")[-1]\n",
    "i"
   ]
  },
  {
   "cell_type": "code",
   "execution_count": 5,
   "id": "c33aab1d",
   "metadata": {},
   "outputs": [
    {
     "name": "stdout",
     "output_type": "stream",
     "text": [
      "{'dataset_info': 'foodpal', 'path_default': 'tofu-natur-604a65311505b-800.png', 'kcal_100': 162.0, 'prot_100': 17.0, 'fat_100': 9.0, 'carb_100': 0.0, 'text': 'Tofu (natural), Vegan dishes'}\n"
     ]
    },
    {
     "data": {
      "text/html": [
       "<img src=\"tofu-natur-604a65311505b-800.png\"/>"
      ],
      "text/plain": [
       "<IPython.core.display.Image object>"
      ]
     },
     "execution_count": 5,
     "metadata": {},
     "output_type": "execute_result"
    }
   ],
   "source": [
    "url, name = i.attrs['href'], i.attrs['title']\n",
    "dct = get_from_page(url, name)\n",
    "dct['text'] = f'{name}, Vegan dishes'\n",
    "print(dct)\n",
    "Image(url= \"tofu-natur-604a65311505b-800.png\")"
   ]
  },
  {
   "cell_type": "markdown",
   "id": "f6c63e33",
   "metadata": {},
   "source": [
    "# weightloss"
   ]
  },
  {
   "cell_type": "code",
   "execution_count": 6,
   "id": "452815b2",
   "metadata": {},
   "outputs": [
    {
     "data": {
      "text/plain": [
       "{'Dinner Recipes': ['https://www.weightloss.com.au/healthy-recipes/dinner-recipes/',\n",
       "  'https://www.weightloss.com.au/healthy-recipes/dinner-recipes/?start=24',\n",
       "  'https://www.weightloss.com.au/healthy-recipes/dinner-recipes/?start=48',\n",
       "  'https://www.weightloss.com.au/healthy-recipes/dinner-recipes/?start=72',\n",
       "  'https://www.weightloss.com.au/healthy-recipes/dinner-recipes/?start=96',\n",
       "  'https://www.weightloss.com.au/healthy-recipes/dinner-recipes/?start=120',\n",
       "  'https://www.weightloss.com.au/healthy-recipes/dinner-recipes/?start=144',\n",
       "  'https://www.weightloss.com.au/healthy-recipes/dinner-recipes/?start=168',\n",
       "  'https://www.weightloss.com.au/healthy-recipes/dinner-recipes/?start=192'],\n",
       " 'Lunch Recipes': ['https://www.weightloss.com.au/healthy-recipes/lunch-recipes/',\n",
       "  'https://www.weightloss.com.au/healthy-recipes/lunch-recipes/?start=24',\n",
       "  'https://www.weightloss.com.au/healthy-recipes/lunch-recipes/?start=48',\n",
       "  'https://www.weightloss.com.au/healthy-recipes/lunch-recipes/?start=72',\n",
       "  'https://www.weightloss.com.au/healthy-recipes/lunch-recipes/?start=96',\n",
       "  'https://www.weightloss.com.au/healthy-recipes/lunch-recipes/?start=120'],\n",
       " 'Breakfast Recipes': ['https://www.weightloss.com.au/healthy-recipes/breakfast-recipes/',\n",
       "  'https://www.weightloss.com.au/healthy-recipes/breakfast-recipes/?start=24',\n",
       "  'https://www.weightloss.com.au/healthy-recipes/breakfast-recipes/?start=48',\n",
       "  'https://www.weightloss.com.au/healthy-recipes/breakfast-recipes/?start=72'],\n",
       " 'Snack Recipes': ['https://www.weightloss.com.au/healthy-recipes/snack-recipes/',\n",
       "  'https://www.weightloss.com.au/healthy-recipes/snack-recipes/?start=24',\n",
       "  'https://www.weightloss.com.au/healthy-recipes/snack-recipes/?start=48',\n",
       "  'https://www.weightloss.com.au/healthy-recipes/snack-recipes/?start=72'],\n",
       " 'Dessert Recipes': ['https://www.weightloss.com.au/healthy-recipes/dessert-recipes/',\n",
       "  'https://www.weightloss.com.au/healthy-recipes/dessert-recipes/?start=24',\n",
       "  'https://www.weightloss.com.au/healthy-recipes/dessert-recipes/?start=48'],\n",
       " 'Sides Recipes': ['https://www.weightloss.com.au/healthy-recipes/sides-recipes/',\n",
       "  'https://www.weightloss.com.au/healthy-recipes/sides-recipes/?start=24'],\n",
       " 'Entertaining Recipes': ['https://www.weightloss.com.au/healthy-recipes/entertaining-recipes/',\n",
       "  'https://www.weightloss.com.au/healthy-recipes/entertaining-recipes/?start=24'],\n",
       " 'Drink Recipes': ['https://www.weightloss.com.au/healthy-recipes/drink-recipes/',\n",
       "  'https://www.weightloss.com.au/healthy-recipes/drink-recipes/?start=24'],\n",
       " 'Curry Recipes': ['https://www.weightloss.com.au/healthy-recipes/curry-recipes/'],\n",
       " 'Burger Recipes': ['https://www.weightloss.com.au/healthy-recipes/burger-recipes/',\n",
       "  'https://www.weightloss.com.au/healthy-recipes/burger-recipes/?start=24'],\n",
       " 'Muffin Recipes': ['https://www.weightloss.com.au/healthy-recipes/muffin-recipes/'],\n",
       " 'Pancakes Recipes': ['https://www.weightloss.com.au/healthy-recipes/pancakes-recipes/'],\n",
       " 'Pizza Recipes': ['https://www.weightloss.com.au/healthy-recipes/pizza-recipes/'],\n",
       " 'Salad Recipes': ['https://www.weightloss.com.au/healthy-recipes/salad-recipes/',\n",
       "  'https://www.weightloss.com.au/healthy-recipes/salad-recipes/?start=24',\n",
       "  'https://www.weightloss.com.au/healthy-recipes/salad-recipes/?start=48'],\n",
       " 'Slow Cooker Recipes': ['https://www.weightloss.com.au/healthy-recipes/slow-cooker-recipes/'],\n",
       " 'Smoothie Recipes': ['https://www.weightloss.com.au/healthy-recipes/smoothie-recipes/'],\n",
       " 'Soup Recipes': ['https://www.weightloss.com.au/healthy-recipes/soup-recipes/',\n",
       "  'https://www.weightloss.com.au/healthy-recipes/soup-recipes/?start=24',\n",
       "  'https://www.weightloss.com.au/healthy-recipes/soup-recipes/?start=48'],\n",
       " 'Stir Fry Recipes': ['https://www.weightloss.com.au/healthy-recipes/stir-fry-recipes/'],\n",
       " 'Asian Recipes': ['https://www.weightloss.com.au/healthy-recipes/asian-recipes/',\n",
       "  'https://www.weightloss.com.au/healthy-recipes/asian-recipes/?start=24',\n",
       "  'https://www.weightloss.com.au/healthy-recipes/asian-recipes/?start=48'],\n",
       " 'Italian Recipes': ['https://www.weightloss.com.au/healthy-recipes/italian-recipes/',\n",
       "  'https://www.weightloss.com.au/healthy-recipes/italian-recipes/?start=24',\n",
       "  'https://www.weightloss.com.au/healthy-recipes/italian-recipes/?start=48'],\n",
       " 'Mexican Recipes': ['https://www.weightloss.com.au/healthy-recipes/mexican-recipes/'],\n",
       " 'Thai Recipes': ['https://www.weightloss.com.au/healthy-recipes/thai-recipes/'],\n",
       " 'Chinese Recipes': ['https://www.weightloss.com.au/healthy-recipes/chinese-recipes/'],\n",
       " 'Greek Recipes': ['https://www.weightloss.com.au/healthy-recipes/greek-recipes/'],\n",
       " 'French Recipes': ['https://www.weightloss.com.au/healthy-recipes/french-recipes/'],\n",
       " 'Indian Recipes': ['https://www.weightloss.com.au/healthy-recipes/indian-recipes/'],\n",
       " 'Spanish Recipes': ['https://www.weightloss.com.au/healthy-recipes/spanish-recipes/'],\n",
       " 'Beef Recipes': ['https://www.weightloss.com.au/healthy-recipes/beef-recipes/',\n",
       "  'https://www.weightloss.com.au/healthy-recipes/beef-recipes/?start=24'],\n",
       " 'Chicken Recipes': ['https://www.weightloss.com.au/healthy-recipes/chicken-recipes/',\n",
       "  'https://www.weightloss.com.au/healthy-recipes/chicken-recipes/?start=24',\n",
       "  'https://www.weightloss.com.au/healthy-recipes/chicken-recipes/?start=48',\n",
       "  'https://www.weightloss.com.au/healthy-recipes/chicken-recipes/?start=72'],\n",
       " 'Fish Recipes': ['https://www.weightloss.com.au/healthy-recipes/fish-recipes/',\n",
       "  'https://www.weightloss.com.au/healthy-recipes/fish-recipes/?start=24',\n",
       "  'https://www.weightloss.com.au/healthy-recipes/fish-recipes/?start=48'],\n",
       " 'Lamb Recipes': ['https://www.weightloss.com.au/healthy-recipes/lamb-recipes/'],\n",
       " 'Pasta Recipes': ['https://www.weightloss.com.au/healthy-recipes/pasta-recipes/',\n",
       "  'https://www.weightloss.com.au/healthy-recipes/pasta-recipes/?start=24'],\n",
       " 'Rice Recipes': ['https://www.weightloss.com.au/healthy-recipes/rice-recipes/',\n",
       "  'https://www.weightloss.com.au/healthy-recipes/rice-recipes/?start=24'],\n",
       " 'Vegetarian Recipes': ['https://www.weightloss.com.au/healthy-recipes/vegetarian-recipes/',\n",
       "  'https://www.weightloss.com.au/healthy-recipes/vegetarian-recipes/?start=24',\n",
       "  'https://www.weightloss.com.au/healthy-recipes/vegetarian-recipes/?start=48',\n",
       "  'https://www.weightloss.com.au/healthy-recipes/vegetarian-recipes/?start=72',\n",
       "  'https://www.weightloss.com.au/healthy-recipes/vegetarian-recipes/?start=96'],\n",
       " 'Pork Recipes': ['https://www.weightloss.com.au/healthy-recipes/pork-recipes/']}"
      ]
     },
     "execution_count": 6,
     "metadata": {},
     "output_type": "execute_result"
    }
   ],
   "source": [
    "page = requests.get('https://www.weightloss.com.au/healthy-recipes/')\n",
    "page = BeautifulSoup(page.text, \"html.parser\")\n",
    "categories = {}\n",
    "for i in page.find_all('a')[6:45]:\n",
    "    if 'href' in i.attrs and 'title' in i.attrs:\n",
    "        p = requests.get('https://www.weightloss.com.au' + i.attrs['href'])\n",
    "        p = BeautifulSoup(p.text, \"html.parser\")\n",
    "        categories[i.attrs['title']] = ['https://www.weightloss.com.au' + i.attrs['href']]\n",
    "        if p.find('ul', class_=\"pagination_link\"): \n",
    "            categories[i.attrs['title']] += list(pd.unique(\n",
    "                ['https://www.weightloss.com.au/' + j.attrs['href'].replace(' ', '') \n",
    "                 for j in p.find('ul', class_=\"pagination_link\").find_all('a')])[1:])\n",
    "categories"
   ]
  },
  {
   "cell_type": "code",
   "execution_count": 7,
   "id": "a4450089",
   "metadata": {},
   "outputs": [
    {
     "data": {
      "text/plain": [
       "('Combination Chinese Soup',\n",
       " 'https://www.weightloss.com.au/healthy-recipes/soup-recipes/combination-chinese-soup/')"
      ]
     },
     "execution_count": 7,
     "metadata": {},
     "output_type": "execute_result"
    }
   ],
   "source": [
    "p = requests.get(categories['Soup Recipes'][-1])\n",
    "p = BeautifulSoup(p.text, \"html.parser\")\n",
    "dish = p.find('div', class_=\"LinkList__item\").find('a', class_=\"LinkList__item__title\")\n",
    "name, link = dish.contents[0], 'https://www.weightloss.com.au' + dish.attrs['href']\n",
    "name, link"
   ]
  },
  {
   "cell_type": "code",
   "execution_count": 8,
   "id": "2e850f87",
   "metadata": {},
   "outputs": [
    {
     "name": "stdout",
     "output_type": "stream",
     "text": [
      "{'path_default': 'combination-soup-lge.png', 'kcal_100': 51.932367149758456, 'prot_100': 4.468599033816425, 'fat_100': 0.38647342995169087, 'carb_100': 7.198067632850242, 'mass': 827.9999999999999, 'text': 'Soup Recipes, Combination Chinese Soup. Asian soups are traditionally broth based with no dairy. You can use any vegetables in your fridge with tender beef and noodles, which will give you a hearty soup.', 'dataset_info': 'weightloss', 'kcal': 430.0, 'prot': 37.0, 'fat': 3.2, 'carb': 59.6}\n"
     ]
    },
    {
     "data": {
      "text/html": [
       "<img src=\"combination-soup-lge.png\"/>"
      ],
      "text/plain": [
       "<IPython.core.display.Image object>"
      ]
     },
     "execution_count": 8,
     "metadata": {},
     "output_type": "execute_result"
    }
   ],
   "source": [
    "page = requests.get(link)\n",
    "page = BeautifulSoup(page.text, \"html.parser\")\n",
    "dct = get_from_url(page)\n",
    "dct['text'] = f'Soup Recipes, {name}. {dct[\"text\"]}'\n",
    "print(dct)\n",
    "Image(url= \"combination-soup-lge.png\")"
   ]
  },
  {
   "cell_type": "code",
   "execution_count": null,
   "id": "1d6bf51f",
   "metadata": {},
   "outputs": [],
   "source": []
  }
 ],
 "metadata": {
  "kernelspec": {
   "display_name": "Python 3 (ipykernel)",
   "language": "python",
   "name": "python3"
  },
  "language_info": {
   "codemirror_mode": {
    "name": "ipython",
    "version": 3
   },
   "file_extension": ".py",
   "mimetype": "text/x-python",
   "name": "python",
   "nbconvert_exporter": "python",
   "pygments_lexer": "ipython3",
   "version": "3.9.12"
  }
 },
 "nbformat": 4,
 "nbformat_minor": 5
}
